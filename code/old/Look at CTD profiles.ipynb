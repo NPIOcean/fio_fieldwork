{
 "cells": [
  {
   "cell_type": "markdown",
   "id": "9bd2f126-9a38-4923-84ea-c0f7c5b1943e",
   "metadata": {},
   "source": [
    "## Note\n",
    "\n",
    "This notebook builds on ´Compare Salinometer vs CTD´ -> **Run that one first and this notebook to run on that kernel**!\n",
    "\n",
    "I.e. go to *Kernel* - *Change kernel* - *Use kernel from preferred session/Compare Sal..* - "
   ]
  },
  {
   "cell_type": "markdown",
   "id": "62451422-1eed-4ac1-baa5-5bf853e961a2",
   "metadata": {},
   "source": [
    "## Read in all CTD profile data\n",
    "\n",
    "- Excluding upcasts (`*up*` in filename)\n",
    "- Excluding casts that were not binned (`*_nobinavg*` in filename)\n",
    "- Excluding casts with `*restart*` in filename (not sure what these are?)\n",
    "- Excluding St2-C1, I think we know this is bad"
   ]
  },
  {
   "cell_type": "markdown",
   "id": "a9b5e2f4-7eb0-4a67-8385-20fa3c25eb8a",
   "metadata": {},
   "source": [
    "#### Imports"
   ]
  },
  {
   "cell_type": "code",
   "execution_count": 13,
   "id": "c59decd0-0f50-4633-a953-a89a08b17311",
   "metadata": {},
   "outputs": [],
   "source": [
    "import seabird"
   ]
  },
  {
   "cell_type": "markdown",
   "id": "9c68d6b3-e4ef-4b22-8882-c17703935643",
   "metadata": {},
   "source": [
    " This is a seabird parser found here: https://github.com/castelao/seabird \n",
    " It looks pretty good - but yields some annoying warnings and does \n",
    " interfacte directly with xarray, and does not convert to nice names etc.\n",
    "\n",
    " -> Working on a parser here (https://github.com/NPIOcean/oceanograPy/blob/master/io/cnv.py) - *not done yet*"
   ]
  },
  {
   "cell_type": "markdown",
   "id": "dacf6e9d-61f6-488d-9178-0a17f394d3f8",
   "metadata": {},
   "source": [
    "Suppress warnings from seabird.fCNV (need to look into later, terribly annoying now).\n",
    "\n",
    "Warnings are on the form:\n",
    "\n",
    "     scan was supposed to have 1197 values, but found only 1196.\n",
    "     prdM was supposed to have 1197 values, but found only 1196.\n",
    "     t4990C was supposed to have 1197 values, but found only 1196.\n",
    "\n",
    "(set `'disable_existing_loggers': False,` to recover the warnings)."
   ]
  },
  {
   "cell_type": "code",
   "execution_count": 14,
   "id": "5bc18fa9-6442-4684-9ce6-6299f53837bf",
   "metadata": {
    "jupyter": {
     "source_hidden": true
    }
   },
   "outputs": [],
   "source": [
    "import logging.config\n",
    "logging.config.dictConfig({'version': 1,'disable_existing_loggers': True,})"
   ]
  },
  {
   "cell_type": "code",
   "execution_count": 15,
   "id": "577e60ca-e279-476f-aee1-ce3e5f2866dc",
   "metadata": {},
   "outputs": [],
   "source": [
    "# For mapping\n",
    "import cartopy.crs as ccrs\n",
    "import cartopy.feature"
   ]
  },
  {
   "cell_type": "markdown",
   "id": "b9d40f43-ba5e-43af-a3f5-e9214a9b93d7",
   "metadata": {},
   "source": [
    "Make plots pop out into windows rather than plot inline within the notebook:"
   ]
  },
  {
   "cell_type": "code",
   "execution_count": 16,
   "id": "9ccc640b-fee1-4b76-a06d-3bed9ee58364",
   "metadata": {},
   "outputs": [],
   "source": [
    "%matplotlib tk"
   ]
  },
  {
   "cell_type": "markdown",
   "id": "7b93e3bb-9bfe-40d4-b47c-d2bed63ea15a",
   "metadata": {},
   "source": [
    "### Load data"
   ]
  },
  {
   "cell_type": "code",
   "execution_count": 17,
   "id": "bd6a3464-53e1-435c-b4dc-f105d392dd34",
   "metadata": {},
   "outputs": [],
   "source": [
    "basedir = '../data/'\n",
    "cnvdir = f'{basedir}source/CTD/Processed/'\n",
    "\n",
    "flist_cnv_all = glob2.glob(f'{cnvdir}*.cnv')\n",
    "flist_cnv = []\n",
    "for fn in flist_cnv_all:\n",
    "    if 'up' not in fn:\n",
    "        if '_nobinavg' not in fn:\n",
    "            if 'restart' not in fn:\n",
    "                flist_cnv += [fn]\n",
    "\n",
    "# Confirmed bad files (no data, etc)\n",
    "bad_casts = ['sta002_01.cnv']\n",
    "\n",
    "for bad_cast in bad_casts:\n",
    "    for fn in flist_cnv:\n",
    "        if bad_cast in fn:\n",
    "            flist_cnv.remove(fn)\n",
    "\n",
    "flist_cnv = list(np.sort(flist_cnv)) # <- List of source .cnv files"
   ]
  },
  {
   "cell_type": "code",
   "execution_count": 18,
   "id": "b196d8f6-0f7b-4b37-9acb-7e79af335565",
   "metadata": {},
   "outputs": [],
   "source": [
    "def get_CTDnum_from_cnv_name(cnv):\n",
    "    '''\n",
    "    Takes the file name, returns the ctd station.\n",
    "    '''\n",
    "    sta_ind = fn.rfind('sta') + 3\n",
    "    uscore_ind = fn.rfind('_')\n",
    "    station = int(fn[sta_ind:uscore_ind])\n",
    "    return station"
   ]
  },
  {
   "cell_type": "markdown",
   "id": "ec47e9f7-0305-4e39-bc1c-c7eb1c2486af",
   "metadata": {},
   "source": [
    "Loop through and read \n",
    "    \n",
    "- Profiles (into `D`)\n",
    "- S values at certain depths (`dep0, .., dep3`)\n"
   ]
  },
  {
   "cell_type": "code",
   "execution_count": 19,
   "id": "bd45eba7-7ce6-4d33-8cc1-d4231c0d45fd",
   "metadata": {},
   "outputs": [
    {
     "name": "stdout",
     "output_type": "stream",
     "text": [
      "Could not parse file: ../data/source/CTD/Processed\\sta022_02.cnv (SKIPPING)\n"
     ]
    }
   ],
   "source": [
    "# NOTE: ugly code - refactor later\n",
    "\n",
    "dep0, dep1, dep2, dep3, dep4 = 15, 500, 1000, 2000, 3000\n",
    "S_dep0, S_dep1, S_dep2, S_dep3, S_dep4 = [], [], [], [], []\n",
    "stations = []\n",
    "cnvnames = []\n",
    "\n",
    "D = []\n",
    "\n",
    "for fn in flist_cnv:\n",
    "    try:\n",
    "        d = seabird.cnv.fCNV(fn).as_DataFrame()\n",
    "        if 'PRES' not in d.columns:\n",
    "            d['PRES'] = d.prdM\n",
    "            \n",
    "        D += [d]\n",
    "\n",
    "        s_dep0, s_dep1, s_dep2, s_dep3, s_dep4 = [np.nan]*5\n",
    "\n",
    "        if d.PRES.max()>dep0:\n",
    "            s_dep0 = d.loc[d.PRES==dep0].PSAL.values[0]\n",
    "        if d.PRES.max()>dep1:\n",
    "            s_dep1 = d.loc[d.PRES==dep1].PSAL.values[0]\n",
    "        if d.PRES.max()>dep2:\n",
    "            s_dep2 = d.loc[d.PRES==dep2].PSAL.values[0]\n",
    "        if d.PRES.max()>dep3:\n",
    "            s_dep3  = d.loc[d.PRES==dep3].PSAL.values[0]\n",
    "        if d.PRES.max()>dep4:\n",
    "            s_dep4  = d.loc[d.PRES==dep4].PSAL.values[0]\n",
    "            \n",
    "        S_dep0 += [s_dep0]\n",
    "        S_dep1 += [s_dep1]\n",
    "        S_dep2 += [s_dep2]\n",
    "        S_dep3 += [s_dep3]\n",
    "        S_dep4 += [s_dep4]\n",
    "\n",
    "        station = get_CTDnum_from_cnv_name(fn)\n",
    "        stations += [station]\n",
    "        cnvnames += [fn.replace(cnvdir, '')]\n",
    "    except:\n",
    "        print(f'Could not parse file: {fn} (SKIPPING)')"
   ]
  },
  {
   "cell_type": "markdown",
   "id": "56c4e883-1ff7-4a30-a6ce-8f48a9a5d6db",
   "metadata": {},
   "source": [
    "### Quick analysis by CTD station\n",
    "\n",
    "Plot the following by CTD station number:\n",
    "\n",
    "1) S-difference (salinometer minus bottle CTD)\n",
    "2) Salinity at select depths"
   ]
  },
  {
   "cell_type": "code",
   "execution_count": null,
   "id": "0fb103da-be22-4994-8511-30e59ef8d09d",
   "metadata": {},
   "outputs": [],
   "source": [
    "import matplotlib as mpl"
   ]
  },
  {
   "cell_type": "code",
   "execution_count": 20,
   "id": "75ef0002-5a03-4e0d-a900-0cecd26a5186",
   "metadata": {},
   "outputs": [
    {
     "ename": "NameError",
     "evalue": "name 'mpl' is not defined",
     "output_type": "error",
     "traceback": [
      "\u001b[1;31m---------------------------------------------------------------------------\u001b[0m",
      "\u001b[1;31mNameError\u001b[0m                                 Traceback (most recent call last)",
      "Cell \u001b[1;32mIn[20], line 3\u001b[0m\n\u001b[0;32m      1\u001b[0m p_max, p_min \u001b[38;5;241m=\u001b[39m DF_deep\u001b[38;5;241m.\u001b[39mp_CTD\u001b[38;5;241m.\u001b[39mmax(), DF_deep\u001b[38;5;241m.\u001b[39mp_CTD\u001b[38;5;241m.\u001b[39mmin()\n\u001b[1;32m----> 3\u001b[0m cmap \u001b[38;5;241m=\u001b[39m \u001b[43mmpl\u001b[49m\u001b[38;5;241m.\u001b[39mcolormaps\u001b[38;5;241m.\u001b[39mget(\u001b[38;5;124m'\u001b[39m\u001b[38;5;124mSpectral\u001b[39m\u001b[38;5;124m'\u001b[39m)\u001b[38;5;241m.\u001b[39mcopy()\n\u001b[0;32m      4\u001b[0m \u001b[38;5;66;03m#cmap.set_extremes(under = p_min, over = p_max)\u001b[39;00m\n",
      "\u001b[1;31mNameError\u001b[0m: name 'mpl' is not defined"
     ]
    }
   ],
   "source": [
    "p_max, p_min = DF_deep.p_CTD.max(), DF_deep.p_CTD.min()\n",
    "\n",
    "cmap = mpl.colormaps.get('Spectral').copy()\n",
    "#cmap.set_extremes(under = p_min, over = p_max)"
   ]
  },
  {
   "cell_type": "code",
   "execution_count": null,
   "id": "f9b8b2ff-566a-4ec2-92a2-b45cf5e4f25b",
   "metadata": {},
   "outputs": [],
   "source": [
    "fig, ax = plt.subplots(2, 1, sharex = True)\n",
    "ax[0].set_facecolor('lightgrey')\n",
    "mkws = {'marker':'.', 'ms':10, 'alpha':0.7}\n",
    "\n",
    "for CTD_station in np.arange(1, 22):\n",
    "    station_salinom = DF_deep.loc[DF_deep.CTD_station ==CTD_station]\n",
    "    \n",
    "    for sdiff, p_ in zip(station_salinom.S_diff, station_salinom.p_CTD):\n",
    "        dcol = cmap((p_ - p_min)/(p_max-p_min))\n",
    "        ax[0].plot(CTD_station, sdiff, **mkws, color = dcol)\n",
    "    #for S_CTD, S in station_salinom.S_diff:\n",
    "\n",
    "# Dummy plot to make colorbar\n",
    "cb_ax = fig.add_axes([0.72, 0.65, 0.03, 0.2])\n",
    "xl, yl = ax[0].get_xlim(), ax[0].get_ylim()\n",
    "C_dummy = ax[0].pcolormesh([-1e3, -1.1e3], [0, 1], [[0]*2]*2, cmap = cmap, vmin = p_min, vmax = p_max)\n",
    "ax[0].set_xlim(xl) ; ax[0].set_ylim(yl)\n",
    "cb = plt.colorbar(C_dummy, cax = cb_ax, label = 'Sample\\ndepth [db]')\n",
    "cb_ax.invert_yaxis()\n",
    "\n",
    "for Sdep, dep in zip([S_dep1, S_dep2, S_dep3, S_dep4],\n",
    "                     [dep1, dep2, dep3, dep4]):\n",
    "    ax[1].plot(stations, Sdep, '-k', alpha = 0.3,lw = 0.5)\n",
    "    \n",
    "    ax[1].plot(stations, Sdep, **mkws, label = f'{dep} m')\n",
    "\n",
    "ax[1].legend(title = 'Depth', ncol = 2, handlelength = 1)\n",
    "for axn in ax:\n",
    "    axn.grid()\n",
    "\n",
    "ax[1].set_xlabel('CTD station')\n",
    "ax[0].set_ylabel('$S_{diff} \\  (S_{salinom} - S_{CTD})$')\n",
    "ax[1].set_ylabel('$S_{CTD}$ [particular depth]')\n",
    "ax[1].set_xticks(np.arange(1, 23));\n",
    "ax[0].tick_params(labelbottom = True)"
   ]
  },
  {
   "cell_type": "code",
   "execution_count": 21,
   "id": "6094b0d5-34d6-4b06-ac53-3a2986a725df",
   "metadata": {},
   "outputs": [],
   "source": [
    "plt.close('all')"
   ]
  },
  {
   "cell_type": "markdown",
   "id": "d611ed96-179e-47e4-bb9c-c558bb86b4ed",
   "metadata": {},
   "source": [
    "### Look at individual profiles"
   ]
  },
  {
   "cell_type": "code",
   "execution_count": 22,
   "id": "f837784c-3dde-4fda-8860-9162a02b3733",
   "metadata": {},
   "outputs": [],
   "source": [
    "def map_fig():\n",
    "    fig = plt.figure(figsize=[10, 5])\n",
    "    ax = plt.subplot(projection=ccrs.SouthPolarStereo())    \n",
    "    ax.add_feature(cartopy.feature.LAND)\n",
    "    ax.add_feature(cartopy.feature.OCEAN)\n",
    "    return(ax)"
   ]
  },
  {
   "cell_type": "code",
   "execution_count": 23,
   "id": "12cc4d4d-05de-4320-bd15-3689a3f1c78f",
   "metadata": {},
   "outputs": [
    {
     "data": {
      "text/plain": [
       "<matplotlib.legend.Legend at 0x1fd15851cd0>"
      ]
     },
     "execution_count": 23,
     "metadata": {},
     "output_type": "execute_result"
    },
    {
     "name": "stderr",
     "output_type": "stream",
     "text": [
      "C:\\Users\\hattermann\\AppData\\Local\\miniforge3\\envs\\TT2021\\Lib\\site-packages\\cartopy\\io\\__init__.py:241: DownloadWarning: Downloading: https://naturalearth.s3.amazonaws.com/50m_physical/ne_50m_land.zip\n",
      "  warnings.warn(f'Downloading: {url}', DownloadWarning)\n",
      "C:\\Users\\hattermann\\AppData\\Local\\miniforge3\\envs\\TT2021\\Lib\\site-packages\\cartopy\\io\\__init__.py:241: DownloadWarning: Downloading: https://naturalearth.s3.amazonaws.com/50m_physical/ne_50m_ocean.zip\n",
      "  warnings.warn(f'Downloading: {url}', DownloadWarning)\n"
     ]
    }
   ],
   "source": [
    "fig, axs = plt.subplots(1, 3, figsize = (15,6) )\n",
    "map_ax = map_fig()\n",
    "\n",
    "ax0, ax1, ax2 = axs\n",
    "single_out_station = 11\n",
    "\n",
    "for fn in flist_cnv:\n",
    "    station = get_CTDnum_from_cnv_name(fn)\n",
    "\n",
    "    try:\n",
    "        d = seabird.cnv.fCNV(fn).as_DataFrame()\n",
    "        if 'PRES' not in d.columns:\n",
    "            d['PRES'] = d.prdM\n",
    "        if 'TEMP' not in d.columns:\n",
    "            d['TEMP'] = d.t4990C\n",
    "    except: pass\n",
    "    ax0.plot(d.PSAL, d.PRES, '-k', alpha = 0.3, lw = 0.5)\n",
    "    ax1.plot(d.TEMP, d.PRES, '-k', alpha = 0.3, lw = 0.5)\n",
    "    ax2.plot(d.PSAL, d.TEMP, '.k', ms = 1, alpha = 0.3, lw = 0.5)\n",
    "    \n",
    "    if station == single_out_station:\n",
    "       st_kws = {'color':'r', 'alpha':0.9, 'lw':2, 'zorder':3, 'label':f'St #{station}'}\n",
    "       ax0.plot(d.PSAL, d.PRES, **st_kws)\n",
    "       ax1.plot(d.TEMP, d.PRES, **st_kws)\n",
    "       ax2.plot(d.PSAL, d.TEMP, **st_kws)\n",
    "\n",
    "\n",
    "    # Map\n",
    "    map_ax.plot(d.LONGITUDE, d.LATITUDE, '.k', transform = ccrs.PlateCarree())\n",
    "    if station == single_out_station:\n",
    "        map_ax.plot(d.LONGITUDE, d.LATITUDE, '*r', transform = ccrs.PlateCarree(), zorder = 3,\n",
    "                   label=f'St #{station}')\n",
    "        \n",
    "# Btl and salinometer\n",
    "st_salinom = DF_deep.loc[DF_deep.CTD_station ==single_out_station]\n",
    "ax0.plot(st_salinom.S_CTD, st_salinom.p_CTD, '*y', mec = 'k', label = '.btl',  alpha = 0.9, lw = 0.8, zorder = 4)\n",
    "ax0.plot(st_salinom.S_final, st_salinom.p_CTD, 'sr', mec = 'k',  ms = 3, label = 'salinom', alpha = 0.9, lw = 0.8, zorder = 4)\n",
    "\n",
    "\n",
    "for axn in [ax0, ax2]:\n",
    "    axn.set_xlim(34, 35)\n",
    "for axn in [ax0, ax1]:\n",
    "    axn.invert_yaxis()\n",
    "    axn.set_ylim(2200, 0)\n",
    "\n",
    "for axn in axs: axn.legend()\n",
    "ax0.set_ylabel('Pressure [db]')\n",
    "\n",
    "\n",
    "ax0.set_title('S profile')\n",
    "ax1.set_title('T profile')\n",
    "ax2.set_title('T-S')\n",
    "\n",
    "map_ax.set_extent([-20, 40, -60, -75])\n",
    "map_ax.legend()\n",
    "\n",
    "## map\n"
   ]
  },
  {
   "cell_type": "code",
   "execution_count": 26,
   "id": "e5e5d676-bc11-421f-b21b-55b7909f913f",
   "metadata": {},
   "outputs": [
    {
     "data": {
      "text/plain": [
       "[<matplotlib.lines.Line2D at 0x7fcfc5ad9790>]"
      ]
     },
     "execution_count": 26,
     "metadata": {},
     "output_type": "execute_result"
    }
   ],
   "source": [
    "fig, ax = plt.subplots()\n",
    "ax.plot(S_dep1, '-')"
   ]
  },
  {
   "cell_type": "code",
   "execution_count": null,
   "id": "1c5a4213-80d7-4326-954e-2b4e2d7ee50a",
   "metadata": {},
   "outputs": [],
   "source": []
  },
  {
   "cell_type": "code",
   "execution_count": null,
   "id": "801ba980-22a5-49e7-a3e6-3480a849bb34",
   "metadata": {},
   "outputs": [],
   "source": []
  }
 ],
 "metadata": {
  "kernelspec": {
   "display_name": "Python [conda env:TT2021]",
   "language": "python",
   "name": "conda-env-TT2021-py"
  },
  "language_info": {
   "codemirror_mode": {
    "name": "ipython",
    "version": 3
   },
   "file_extension": ".py",
   "mimetype": "text/x-python",
   "name": "python",
   "nbconvert_exporter": "python",
   "pygments_lexer": "ipython3",
   "version": "3.11.5"
  }
 },
 "nbformat": 4,
 "nbformat_minor": 5
}

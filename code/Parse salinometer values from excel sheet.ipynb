{
 "cells": [
  {
   "cell_type": "markdown",
   "id": "bdccf587-08e3-4e2f-b98a-303b60043fbe",
   "metadata": {},
   "source": [
    "## Parse salinometer values \n",
    "\n",
    "Parsing the excel file with digitized salinometer data and saving as a .csv.  "
   ]
  },
  {
   "cell_type": "code",
   "execution_count": 1,
   "id": "71a3399c-4cbf-409f-b77b-98cda7c557fa",
   "metadata": {},
   "outputs": [],
   "source": [
    "import os\n",
    "import pandas as pd\n",
    "import matplotlib.pyplot as plt\n",
    "import glob2\n",
    "import numpy as np"
   ]
  },
  {
   "cell_type": "code",
   "execution_count": 2,
   "id": "c20a98d5-3e17-40f8-aade-460fc9eb9445",
   "metadata": {},
   "outputs": [
    {
     "name": "stdout",
     "output_type": "stream",
     "text": [
      "out_folder not found, create it now:\n",
      "../data/new/salinometer/\n"
     ]
    }
   ],
   "source": [
    "basedir =  '../data/'\n",
    "ddir_in = f'{basedir}source/salinometer/'\n",
    "ddir_out = f'{basedir}new/salinometer/'\n",
    "\n",
    "if not os.access(ddir_out,1):\n",
    "    print('out_folder not found, create it now:')\n",
    "    print(ddir_out)\n",
    "    os.makedirs(ddir_out)"
   ]
  },
  {
   "cell_type": "code",
   "execution_count": 3,
   "id": "23ecacae-be7a-4a39-83a8-b8e7c5df7726",
   "metadata": {},
   "outputs": [
    {
     "name": "stdout",
     "output_type": "stream",
     "text": [
      "..\\data\\source\\salinometer\\salinometer_readings_digitized.xlsx\n"
     ]
    }
   ],
   "source": [
    "fn =os.path.normpath(f'{ddir_in}salinometer_readings_digitized.xlsx')\n",
    "print(fn)"
   ]
  },
  {
   "cell_type": "markdown",
   "id": "d335701c-6b7d-4176-ac88-a411feb2e9d8",
   "metadata": {},
   "source": [
    "## Parse using pandas\n"
   ]
  },
  {
   "cell_type": "code",
   "execution_count": 4,
   "id": "1356a653-a7fc-4739-84f0-fa1aaa2526c0",
   "metadata": {},
   "outputs": [],
   "source": [
    "def find_start_row(xlsx_file):\n",
    "    '''\n",
    "    Find the location of the \"START\" line so we know how much header to skip \n",
    "    '''\n",
    "    df_ = pd.read_excel(xlsx_file)\n",
    "    start_row = np.where(df_.iloc[:, 0]== 'START')[0][0]\n",
    "\n",
    "    return start_row"
   ]
  },
  {
   "cell_type": "code",
   "execution_count": 5,
   "id": "ec656097-adb5-41be-8aac-6344dd7076e3",
   "metadata": {},
   "outputs": [],
   "source": [
    "start_row = find_start_row(fn)"
   ]
  },
  {
   "cell_type": "code",
   "execution_count": 6,
   "id": "9d258704-d5ec-4b86-abff-01542932e249",
   "metadata": {},
   "outputs": [],
   "source": [
    "# Read the data\n",
    "df = pd.read_excel(fn, skiprows = start_row+2)"
   ]
  },
  {
   "cell_type": "markdown",
   "id": "cbc44af4-1aa2-4e11-8dcb-9b5d362c8e9b",
   "metadata": {},
   "source": [
    "##### Save to .csv file"
   ]
  },
  {
   "cell_type": "code",
   "execution_count": 7,
   "id": "db9cc07b-f8d3-48c7-82bc-0624795a3aae",
   "metadata": {},
   "outputs": [],
   "source": [
    "df.to_csv(ddir_out + 'salinometer_values_tt2022_2023.csv', index = False)"
   ]
  },
  {
   "cell_type": "code",
   "execution_count": null,
   "id": "58d652b3-f272-4575-819f-0641b1e3aaad",
   "metadata": {},
   "outputs": [],
   "source": []
  },
  {
   "cell_type": "code",
   "execution_count": null,
   "id": "ba94303c-d72a-4797-94e6-6c97fb573f8f",
   "metadata": {},
   "outputs": [],
   "source": []
  }
 ],
 "metadata": {
  "kernelspec": {
   "display_name": "Python [conda env:TT2021]",
   "language": "python",
   "name": "conda-env-TT2021-py"
  },
  "language_info": {
   "codemirror_mode": {
    "name": "ipython",
    "version": 3
   },
   "file_extension": ".py",
   "mimetype": "text/x-python",
   "name": "python",
   "nbconvert_exporter": "python",
   "pygments_lexer": "ipython3",
   "version": "3.11.5"
  }
 },
 "nbformat": 4,
 "nbformat_minor": 5
}

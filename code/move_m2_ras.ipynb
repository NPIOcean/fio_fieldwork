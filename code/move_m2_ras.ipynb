{
 "cells": [
  {
   "cell_type": "code",
   "execution_count": 10,
   "id": "9e715a8d-2ca8-468e-b448-ac2f4248d7e2",
   "metadata": {},
   "outputs": [
    {
     "name": "stdout",
     "output_type": "stream",
     "text": [
      "<bound method MajorObject.GetMetadata of <osgeo.gdal.Dataset; proxy of <Swig Object of type 'GDALDatasetShadow *' at 0x0000028D610537B0> >>\n"
     ]
    },
    {
     "data": {
      "text/plain": [
       "(-121111.2025, 8.0, 0.0, 2267660.4544, 0.0, -8.0)"
      ]
     },
     "execution_count": 10,
     "metadata": {},
     "output_type": "execute_result"
    }
   ],
   "source": [
    "import os\n",
    "import shutil\n",
    "from osgeo import gdal\n",
    "\n",
    "# base_folder = 'C:\\Users\\hattermann\\Norsk Polarinstitutt\\TONe - TONe budsjett og prosjektorganisering - TONe budsjett og prosjektorganisering\\Arbeidspakker\\FIO\\GIS'\n",
    "base_folder = 'C:/Users/hattermann/Norsk Polarinstitutt/TONe - TONe budsjett og prosjektorganisering - TONe budsjett og prosjektorganisering/Arbeidspakker/FIO/GIS/'\n",
    "infile = 'draught_fimbulNW_eigen_mv2024.tif'\n",
    "outfile = 'draught_fimbulNW_eigen_tied_to_rad.tif'\n",
    "\n",
    "fni = os.path.normpath(os.path.join(base_folder, infile))\n",
    "fno = os.path.normpath(os.path.join(base_folder, outfile))\n",
    "\n",
    "shutil.copyfile(fni, fno)\n",
    "\n",
    "gtif = gdal.Open(fno)\n",
    "print(gtif.GetMetadata)\n",
    "gtif.GetGeoTransform()"
   ]
  },
  {
   "cell_type": "code",
   "execution_count": 11,
   "id": "9492105f-cd51-422c-bd80-3cd78250e286",
   "metadata": {},
   "outputs": [
    {
     "data": {
      "text/plain": [
       "(-120311.2025, 8.0, 0.0, 2267210.4544, 0.0, -8.0)"
      ]
     },
     "execution_count": 11,
     "metadata": {},
     "output_type": "execute_result"
    }
   ],
   "source": [
    "gt = gtif.GetGeoTransform()\n",
    "# (-121111.2025, 8.0, 0.0, 2267660.4544, 0.0, -8.0)\n",
    "\n",
    "gtl = list(gt)\n",
    "gtl[0] += 800.0  # Move east\n",
    "gtl[3] -= 450.0 # Move south \n",
    "\n",
    "# Save the geotransform to the raster\n",
    "gtif.SetGeoTransform(tuple(gtl))\n",
    "gtif.GetGeoTransform()\n"
   ]
  },
  {
   "cell_type": "code",
   "execution_count": 12,
   "id": "19a73aaf-abfd-455e-9647-73aaa60b1c43",
   "metadata": {},
   "outputs": [],
   "source": [
    "gtif.Close\n",
    "gtif = None"
   ]
  }
 ],
 "metadata": {
  "kernelspec": {
   "display_name": "Python [conda env:fio_fieldwork] *",
   "language": "python",
   "name": "conda-env-fio_fieldwork-py"
  },
  "language_info": {
   "codemirror_mode": {
    "name": "ipython",
    "version": 3
   },
   "file_extension": ".py",
   "mimetype": "text/x-python",
   "name": "python",
   "nbconvert_exporter": "python",
   "pygments_lexer": "ipython3",
   "version": "3.11.5"
  }
 },
 "nbformat": 4,
 "nbformat_minor": 5
}
